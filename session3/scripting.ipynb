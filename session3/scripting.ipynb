{
 "metadata": {
  "name": "scripting"
 },
 "nbformat": 3,
 "nbformat_minor": 0,
 "worksheets": [
  {
   "cells": [
    {
     "cell_type": "heading",
     "level": 1,
     "metadata": {},
     "source": [
      "Scripting with Python\n"
     ]
    },
    {
     "cell_type": "markdown",
     "metadata": {},
     "source": [
      "First, we'll write an ODE solver in Python. Then, we'll consider the problem of running the ODE solver for a (potentially large) number of initial conditions. We don't want to type in the initial condition for every case that we want to solve, so we'll _automate_ this process using Python's scripting features."
     ]
    },
    {
     "cell_type": "heading",
     "level": 2,
     "metadata": {},
     "source": [
      "A simple ODE solver in Python\n"
     ]
    },
    {
     "cell_type": "markdown",
     "metadata": {},
     "source": [
      "Solving $\\frac{dy}{dt}=-2y^2$ with SciPy.\n",
      "To understand how this code works, run `help(odeint)` after `import`ing it as shown:"
     ]
    },
    {
     "cell_type": "code",
     "collapsed": false,
     "input": [
      "# odesolve.py\n",
      "\n",
      "from pylab import *\n",
      "from scipy.integrate import odeint\n",
      "\n",
      "# odeint is an LSODA based ODE solver\n",
      "\n",
      "# Define the function:\n",
      "def f(y, t0):\n",
      "    return -2*y**2;\n",
      "\n",
      "# Initial condition:\n",
      "y0 = 3\n",
      "\n",
      "# Solve for some `t':\n",
      "t = linspace(0, 5, 100)\n",
      "y = odeint(f, y0, t)\n",
      "\n",
      "plot(t,y)\n",
      "xlabel('t'); ylabel('y'); title(r\"$\\frac{dy}{dt}=-2y^2$\") # LaTeX!\n",
      "savefig('solution.png')\n",
      "show()\n"
     ],
     "language": "python",
     "metadata": {},
     "outputs": []
    },
    {
     "cell_type": "heading",
     "level": 2,
     "metadata": {},
     "source": [
      "Scripting with our ODE solver"
     ]
    },
    {
     "cell_type": "heading",
     "level": 3,
     "metadata": {},
     "source": [
      "Command line arguments:"
     ]
    },
    {
     "cell_type": "markdown",
     "metadata": {},
     "source": [
      "Save the script above to a file `odesolve.py`. To run the program from a command line (ex. __`bash`__ on Linux or Mac and the __command prompt__ on Windows), you would do:\n",
      "\n",
      "`$ python odesolve.py`\n",
      "\n",
      "If you're not comfortable with using a command line interface, you can actually run the program from the Python shell itself! _So meta._\n",
      "\n",
      "`>>> run odesolve.py`"
     ]
    },
    {
     "cell_type": "markdown",
     "metadata": {},
     "source": [
      "With command line arguments, you can supply information to your program when you call it from a command line interface. For example, instead of defining the initial condition `y0` _inside_ the program, you can supply its value on the command line like this:"
     ]
    },
    {
     "cell_type": "markdown",
     "metadata": {},
     "source": [
      "`$ python odesolve.py 3`\n",
      "\n",
      "or equivalently on a Python shell:\n",
      "\n",
      "`>>> run odesolve.py 3`"
     ]
    },
    {
     "cell_type": "markdown",
     "metadata": {},
     "source": [
      "Of course, Python can't guess what the `3` is doing there. You need to modify the code so that it accepts command line arguments. In Python, this is done using the `sys` module. See the code below, it differs from `odesolve.py` only in the way the initial condition `y0` is supplied:"
     ]
    },
    {
     "cell_type": "code",
     "collapsed": true,
     "input": [
      "# odesolve_cmd.py\n",
      "\n",
      "import sys\n",
      "from pylab import *\n",
      "from scipy.integrate import odeint\n",
      "\n",
      "# odeint is an LSODA based ODE solver\n",
      "\n",
      "# Define the function:\n",
      "def f(y, t0):\n",
      "    return -2*y**2;\n",
      "\n",
      "# Initial condition:\n",
      "\n",
      "# The 'sys' module (imported above), contains\n",
      "# objects that are related to the python interpreter.\n",
      "\n",
      "# The command line arguments are stored in\n",
      "# a list 'sys.argv'.\n",
      "# sys.argv[0] is always the name of the program.\n",
      "# sys.argv[1] is the first command line argument.\n",
      "# sys.argv[2] is the second .. and so on\n",
      "\n",
      "# Since we only have one command line argument,\n",
      "# (the initial condition):\n",
      "\n",
      "y0 = float(sys.argv[1])\n",
      "\n",
      "# Solve for some `t':\n",
      "t = linspace(0, 5, 100)\n",
      "y = odeint(f, y0, t)\n",
      "\n",
      "# Save\n",
      "plot(t,y)\n",
      "xlabel('t'); ylabel('y'); title(r\"$\\frac{dy}{dt}=-2y^2$\")\n",
      "savefig('solution_%1.2f.png'%y0)\n",
      "close()\n"
     ],
     "language": "python",
     "metadata": {},
     "outputs": []
    },
    {
     "cell_type": "markdown",
     "metadata": {},
     "source": [
      "What's interesting is that Python reads the command line argument as a `str` (string). We explicitly convert it into a `float`. Remember the Zen of Python -- explicit is better than implicit. You can now get different plots simply by changing the command line argument:\n",
      "\n",
      "\n",
      "\n",
      "`>>> run odesolve.py 3.5`\n",
      "\n",
      "`>>> run odesolve.py 2`"
     ]
    },
    {
     "cell_type": "heading",
     "level": 3,
     "metadata": {},
     "source": [
      "OK. But Why?"
     ]
    },
    {
     "cell_type": "markdown",
     "metadata": {},
     "source": [
      "One of the nice things about programs that accept command line arguments is that they make scripting easy! Let's say you wanted a solution for many different initial conditions. You could type out on the Python shell:"
     ]
    },
    {
     "cell_type": "markdown",
     "metadata": {},
     "source": [
      "`>>> run odesolve.py 1.0`\n",
      "\n",
      "`>>> run odesolve.py 1.5`\n",
      "\n",
      "`>>> run odesolve.py 2.0`\n",
      "\n",
      "...\n",
      "...\n",
      "\n",
      "`>>> run odesolve.py 100.0`"
     ]
    },
    {
     "cell_type": "markdown",
     "metadata": {},
     "source": [
      "But presumably, your time is worth more than _that_. Computers are good at doing boring, repetitive stuff like this, and getting them to do it is the art of ___scripting___. Here is an example of a script that might solve the problem:"
     ]
    },
    {
     "cell_type": "code",
     "collapsed": false,
     "input": [
      "# run_experiment.py\n",
      "\n",
      "import subprocess\n",
      "import numpy as np\n",
      "import sys\n",
      "\n",
      "init_conds = np.arange(1, 6, 1) # Solve for y0 = 1, 2, 3, 4, 5\n",
      "for y0 in init_conds:\n",
      "    ode = subprocess.Popen([sys.executable, \"odesolve_cmd.py\", str(y0)], \n",
      "                            stdout=subprocess.PIPE)\n",
      "    ode.wait() # Wait for the process to complete before resuming\n"
     ],
     "language": "python",
     "metadata": {},
     "outputs": []
    },
    {
     "cell_type": "markdown",
     "metadata": {},
     "source": [
      "Running `run_experiment.py` will generate (and save to disk) plots of the solution for the different `init_conds`.\n",
      "\n",
      "This is a relatively compact code, although it might, at first look, be slightly incomprehensible. Run a `help` on `subprocess.Popen` after importing `subprocess`. The `sys.executable` simply tells Python that you are running \"odesolve_cmd.py\" using Python. I didn't know to do that -- I Googled \"How to use subprocess to run Python script\".\n",
      "\n",
      "In general, the `os` and `subprocess` modules are extremely useful for scripting applications like these."
     ]
    },
    {
     "cell_type": "heading",
     "level": 3,
     "metadata": {},
     "source": [
      "Some comments"
     ]
    },
    {
     "cell_type": "markdown",
     "metadata": {},
     "source": [
      "The example presented above is actually slightly unusual, in that we used Python to script an application written in Python. More generally, Python can be used to script an application written in many other languages -- it's not unusual for a typical project in scientific computing to be written in at least 3 different programming languages. For instance, you can create an executable `.out` or `.bin` file using C/C++ or Fortran, and run that from a Python script like so:\n",
      "    \n",
      "    ode = subprocess.Popen([\"app.bin\", \"-command_line_argument\"], stdout=subprocess.PIPE)"
     ]
    },
    {
     "cell_type": "markdown",
     "metadata": {},
     "source": [
      "I do research in Computational Fluid Dynamics (CFD) and typically write C/C++ code to do computationally intensive stuff. I might want to do all sorts of experiments with my code, for example\n",
      "\n",
      "- Validate the accuracy of my code against someone else's\n",
      "- Test the performance of my code against someone else's\n",
      "- Run my code with different parameters -- different geometries or fluid properties\n",
      "\n",
      "For each of these 'experiments', I write a Python script that generates configuration files (Python is good at reading and writing these), moves data around, sets appropriate command line arguments, etc., This kind of automation not only saves me a lot of time and effort, but also removes the element of human error."
     ]
    },
    {
     "cell_type": "heading",
     "level": 3,
     "metadata": {},
     "source": [
      "An assignment"
     ]
    },
    {
     "cell_type": "markdown",
     "metadata": {},
     "source": [
      "Make up your own application and think about how you can use Python for scripting it. Don't forget to Google extensively. "
     ]
    },
    {
     "cell_type": "code",
     "collapsed": false,
     "input": [],
     "language": "python",
     "metadata": {},
     "outputs": []
    }
   ],
   "metadata": {}
  }
 ]
}